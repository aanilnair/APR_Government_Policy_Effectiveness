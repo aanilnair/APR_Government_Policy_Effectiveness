{
  "nbformat": 4,
  "nbformat_minor": 0,
  "metadata": {
    "colab": {
      "provenance": []
    },
    "kernelspec": {
      "name": "python3",
      "display_name": "Python 3"
    },
    "language_info": {
      "name": "python"
    }
  },
  "cells": [
    {
      "cell_type": "code",
      "execution_count": 7,
      "metadata": {
        "id": "i-voP5PRiegH"
      },
      "outputs": [],
      "source": [
        "import pandas as pd\n",
        "pd.set_option('display.max_columns', None)\n",
        "pd.set_option('display.max_colwidth', None)"
      ]
    },
    {
      "cell_type": "code",
      "source": [
        "#Load Cleansed Data\n",
        "df_cleansed_data = pd.read_csv('/content/Cleansed_Data.csv', low_memory = False)"
      ],
      "metadata": {
        "id": "H72i5yoN4k4L"
      },
      "execution_count": 8,
      "outputs": []
    },
    {
      "cell_type": "code",
      "source": [
        "#Find Max Confirmed Cases per State and Save to CSV\n",
        "df_MaxCases_Per_State = df_cleansed_data.groupby('State')['ConfirmedCases'].max().reset_index().sort_values(by=['ConfirmedCases'], ascending= False)\n",
        "df_MaxCases_Per_State['Rank'] = df_MaxCases_Per_State['ConfirmedCases'].rank(ascending= False)\n",
        "df_MaxCases_Per_State.to_csv(r\"02.Max_Confirmed_Cases_per_State.csv\", index= False)"
      ],
      "metadata": {
        "id": "dBOWRGkW9aeP"
      },
      "execution_count": 11,
      "outputs": []
    }
  ]
}